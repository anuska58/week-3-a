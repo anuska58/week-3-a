{
 "cells": [
  {
   "cell_type": "markdown",
   "id": "0dead82f",
   "metadata": {},
   "source": [
    "<font color='darkred'> Unless otherwise noted, **this notebook will not be reviewed or autograded.**</font> You are welcome to use it for scratchwork, but **only the files listed in the exercises will be checked.**\n",
    "\n",
    "---\n",
    "\n",
    "# Exercises\n",
    "\n",
    "For these exercises, add your functions to the *apputil\\.py* file. If you like, you're welcome to adjust the *app\\.py* file, but it is not required."
   ]
  },
  {
   "cell_type": "markdown",
   "id": "a7ef09a6",
   "metadata": {},
   "source": [
    "## Notes on Recursion\n",
    "\n",
    "A [recursive function](https://www.w3schools.com/python/gloss_python_function_recursion.asp) is one which calls itself.\n",
    "\n",
    "1. When the function is called, your CPU runs through each line of code until the function needs to be called again.\n",
    "2. At that point, all variables are saved in memory, and the function runs through each line of code again until the function is called (again, but with a different passed argument), and so on.\n",
    "3. Eventually, this process will stop at the \"bottom of the **stack**\", where the function doesn't get a chance to call itself again (likely because of some condition un/met by the latest passed argument).\n",
    "4. Then, your CPU will work its way back up the stack to the final result. For example, take a look at [this visual example](https://realpython.com/python-recursion/#calculate-factorial) of calculating 4!.\n",
    "\n",
    "When you write these functions, keep two things in mind:\n",
    "\n",
    "- You will need a built-in stopping point (i.e., the \"bottom\"), where your function returns some result before it calls itself.\n",
    "- **Don't think too hard about this.** Recursion can be perplexing to conceptualize when writing the code. So, when you call the function inside the function, think about it as a magical \"hidden\" function that has already done what you want it to do.\n",
    "- [Python Tutor](https://pythontutor.com/) ([editor](https://pythontutor.com/visualize.html#mode=edit)) can be a helpful resource for this exercise!\n",
    "\n",
    "## Exercise 1\n",
    "\n",
    "The Fibonacci Series starts with 0 and 1. Each of the following numbers are the sum of the previous two numbers in the series:\n",
    "\n",
    "`0 1 1 2 3 5 8 13 21 34 ...`\n",
    "\n",
    "So, `fib(9) = 34`.\n",
    "\n",
    "Write a recursive function (`fib`) that, given `n`, will return the `n`th number of the Fibonacci Series.\n",
    "\n",
    "*Test your function using Google or any other tool that can calculate the Fibonacci Series.*"
   ]
  },
  {
   "cell_type": "code",
   "execution_count": 8,
   "id": "10b9210f",
   "metadata": {},
   "outputs": [
    {
     "name": "stdout",
     "output_type": "stream",
     "text": [
      "55\n",
      "6765\n",
      "5\n"
     ]
    }
   ],
   "source": [
    "def fib(n):\n",
    "    if n == 0:\n",
    "        return 0\n",
    "    elif n == 1:\n",
    "        return 1\n",
    "    else:\n",
    "        return fib(n - 1) + fib(n - 2)\n",
    "print(fib(10))\n",
    "print(fib(20))\n",
    "print(fib(5))    "
   ]
  },
  {
   "cell_type": "markdown",
   "id": "4bef64e9",
   "metadata": {},
   "source": [
    "\n",
    "## Exercise 2\n",
    "\n",
    "Write a (single) recursive function, `to_binary()`, that [converts](https://en.wikipedia.org/wiki/Binary_number#Conversion_to_and_from_other_numeral_systems) an integer into its [binary](https://en.wikipedia.org/wiki/Binary_number) representation. So, for example:\n",
    "\n",
    "```python\n",
    "to_binary(2)   -->  10\n",
    "to_binary(12)  -->  1100\n",
    "```\n",
    "\n",
    "*Note: you can test your function with the built in `bin()` function.*"
   ]
  },
  {
   "cell_type": "code",
   "execution_count": 9,
   "id": "eb033460",
   "metadata": {},
   "outputs": [
    {
     "name": "stdout",
     "output_type": "stream",
     "text": [
      "10\n",
      "1100\n",
      "0\n",
      "0b10\n",
      "0b1100\n",
      "0b0\n"
     ]
    }
   ],
   "source": [
    "def to_binary(n):\n",
    "    if n == 0:\n",
    "        return '0'\n",
    "    elif n == 1:\n",
    "        return '1'\n",
    "    else:\n",
    "        return to_binary(n // 2) + str(n % 2)\n",
    "\n",
    "# Examples\n",
    "print(to_binary(2))  \n",
    "print(to_binary(12))   \n",
    "print(to_binary(0))\n",
    "print(bin(2))\n",
    "print(bin(12))\n",
    "print(bin(0))   "
   ]
  },
  {
   "cell_type": "markdown",
   "id": "dd991538",
   "metadata": {},
   "source": [
    "## Exercise 3 \n",
    "\n",
    "Use the raw Bellevue Almshouse Dataset (`df_bellevue`) extracted at the top of the lab (i.e., with `pd.read_csv ...`).\n",
    "\n",
    "**Write a function for each of the following tasks. Name these functions `task_i()`** (i.e., without any input arguments).\n",
    "\n",
    "1. Return a list of all column names, *sorted* such that the first column has the *least* missing values, and the last column has the *most* missing values (use the raw column names).\n",
    "   - *Note: there is an issue with the `gender` column you'll need to remedy first ...*\n",
    "2. Return a **data frame** with two columns:\n",
    "   - the year (for each year in the data), `year`\n",
    "   - the total number of entries (immigrant admissions) for each year, `total_admissions`\n",
    "3. Return a **series** with:\n",
    "   - Index: gender (for each gender in the data)\n",
    "   - Values: the average age for the indexed gender.\n",
    "4. Return a list of the 5 most common professions *in order of prevalence* (so, the most common is first).\n",
    "\n",
    "For each of these, if there are messy data issues, use the `print` statement to explain.\n"
   ]
  },
  {
   "cell_type": "code",
   "execution_count": 48,
   "id": "5993ce51",
   "metadata": {},
   "outputs": [
    {
     "name": "stdout",
     "output_type": "stream",
     "text": [
      "      date_in first_name  last_name   age          disease profession gender  \\\n",
      "0  1847-04-17       Mary  Gallagher  28.0  recent emigrant    married      w   \n",
      "1  1847-04-08       John  Sanin (?)  19.0  recent emigrant    laborer      m   \n",
      "2  1847-04-17    Anthony      Clark  60.0  recent emigrant    laborer      m   \n",
      "3  1847-04-08   Lawrence     Feeney  32.0  recent emigrant    laborer      m   \n",
      "4  1847-04-13      Henry      Joyce  21.0  recent emigrant        NaN      m   \n",
      "\n",
      "                     children  \n",
      "0         Child Alana 10 days  \n",
      "1              Catherine 2 mo  \n",
      "2  Charles Riley afed 10 days  \n",
      "3                       Child  \n",
      "4                  Child 1 mo  \n",
      "Cleaned Gender Values: ['woman' 'man' None]\n",
      "\n",
      "\n",
      "\n",
      "Task 1: ['date_in', 'last_name', 'first_name', 'gender', 'age', 'profession', 'disease', 'children']\n",
      "\n",
      "Task 2:    year  total_admissions\n",
      "0  1846              3073\n",
      "1  1847              6511\n",
      "\n",
      "Task 3: gender\n",
      "man      31.813433\n",
      "woman    28.725162\n",
      "Name: age, dtype: float64\n",
      "\n",
      "Task 4: ['laborer', 'married', 'spinster', 'widow', 'nan']\n"
     ]
    }
   ],
   "source": [
    "import pandas as pd\n",
    "url = 'https://github.com/melaniewalsh/Intro-Cultural-Analytics/raw/master/book/data/bellevue_almshouse_modified.csv'\n",
    "\n",
    "df_bellevue = pd.read_csv(url)\n",
    "print(df_bellevue.head())\n",
    "\n",
    "def task_i():\n",
    "    #Cleaning gender column\n",
    "    df = df_bellevue.copy()\n",
    "    if \"gender\" in df.columns:\n",
    "        df[\"gender\"] = df[\"gender\"].str.lower().str.strip().replace({\"m\":\"man\", \"w\":\"woman\", \"?\":None,\"h\":None,\"g\": None,\"\":None})\n",
    "        print(\"Cleaned Gender Values:\" , df[\"gender\"].unique())\n",
    "\n",
    "    missing_values = df.isnull().sum()\n",
    "    sorted_cols = missing_values.sort_values(ascending=True).index.tolist()\n",
    "    return sorted_cols\n",
    "    \n",
    "print(\"\\n\\n\\nTask 1:\", task_i())\n",
    "\n",
    "#Part2\n",
    "def task_ii():\n",
    "    df = df_bellevue.copy()\n",
    "    df[\"date_in\"] = pd.to_datetime(df[\"date_in\"], errors='coerce')\n",
    "    if df[\"date_in\"].isnull().any():\n",
    "        print(\"There are missing values in the 'date_in' column and converted to NaN.\")\n",
    "    df[\"year\"] = df[\"date_in\"].dt.year\n",
    "    result=df.groupby(\"year\").size().reset_index(name='total_admissions')\n",
    "    return result\n",
    "\n",
    "print(\"\\nTask 2:\", task_ii())\n",
    "\n",
    "#Part3\n",
    "def task_iii():\n",
    "    df = df_bellevue.copy()\n",
    "    #clean gender column\n",
    "    df[\"gender\"] = df[\"gender\"].str.lower().str.strip().replace({\"m\":\"man\", \"w\":\"woman\", \"?\":None,\"h\":None,\"g\": None,\"\":None})\n",
    "    df[\"age\"] = pd.to_numeric(df[\"age\"], errors='coerce')\n",
    "    result = df.groupby(\"gender\")[\"age\"].mean()\n",
    "    return result\n",
    "print(\"\\nTask 3:\", task_iii())\n",
    "\n",
    "#Part4\n",
    "def task_4():\n",
    "    \"\"\"\n",
    "    Return a list of the 5 most common professions (most common first).\n",
    "    \"\"\"\n",
    "    df = df_bellevue.copy()\n",
    "\n",
    "    if \"profession\" not in df.columns:\n",
    "        print(\"No 'profession' column found in dataset.\")\n",
    "        return []\n",
    "\n",
    "    # Normalize text\n",
    "    df[\"profession\"] = df[\"profession\"].astype(str).str.strip().str.lower()\n",
    "\n",
    "    # Check messy entries\n",
    "    if df[\"profession\"].isna().any() or (df[\"profession\"] == \"\").any():\n",
    "        print(\"Some 'profession' values are missing or blank.\")\n",
    "\n",
    "    # Get top 5\n",
    "    top5 = df[\"profession\"].value_counts().head(5).index.tolist()\n",
    "    return top5\n",
    "print(\"\\nTask 4:\", task_4())"
   ]
  }
 ],
 "metadata": {
  "kernelspec": {
   "display_name": "base",
   "language": "python",
   "name": "python3"
  },
  "language_info": {
   "codemirror_mode": {
    "name": "ipython",
    "version": 3
   },
   "file_extension": ".py",
   "mimetype": "text/x-python",
   "name": "python",
   "nbconvert_exporter": "python",
   "pygments_lexer": "ipython3",
   "version": "3.11.11"
  }
 },
 "nbformat": 4,
 "nbformat_minor": 5
}
